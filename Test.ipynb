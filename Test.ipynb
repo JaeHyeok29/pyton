{
 "cells": [
  {
   "cell_type": "code",
   "execution_count": null,
   "metadata": {},
   "outputs": [],
   "source": [
    "int[] array = {1,2,3,4,5}:\n",
    "\n",
    "for (int i = array) {\n",
    "System.out.println(i);\n",
    "}"
   ]
  },
  {
   "cell_type": "code",
   "execution_count": 1,
   "metadata": {},
   "outputs": [
    {
     "name": "stdout",
     "output_type": "stream",
     "text": [
      "False\n"
     ]
    }
   ],
   "source": [
    "drive = True\n",
    "drink = False\n",
    "\n",
    "print(1 == 2 & 2 == 1)"
   ]
  },
  {
   "cell_type": "code",
   "execution_count": null,
   "metadata": {},
   "outputs": [],
   "source": [
    "String target = \"AbCdEf\";\n",
    "String result = \"\";\n",
    "\n",
    "for(char c : target.toCharArray()) {\n",
    "    if(c >= 97 && c <= 122)\n",
    "        result  += (char) (c - 32);\n",
    "    else\n",
    "        result += (char) (c + 32);\n",
    "}\n",
    "\n",
    "System.out.println(target);\n",
    "System.out.println(result);"
   ]
  },
  {
   "cell_type": "code",
   "execution_count": 6,
   "metadata": {},
   "outputs": [
    {
     "name": "stdout",
     "output_type": "stream",
     "text": [
      "AbCdEf\n",
      "aBcDeF\n"
     ]
    }
   ],
   "source": [
    "target = \"AbCdEf\"\n",
    "result = \"\"\n",
    "\n",
    "for s in target:\n",
    "    if ord(s) in range(97, 122): \n",
    "    #if org(s) >= 97 and ord(s) <= 122: 이렇게 작성해도 괜찮음\n",
    "        result = result + chr(ord(s) - 32) # 캐릭터 문자 변환\n",
    "    else:\n",
    "        result = result + chr(ord(s) + 32)\n",
    "print(target)\n",
    "print(result)\n",
    "\n"
   ]
  },
  {
   "cell_type": "code",
   "execution_count": 4,
   "metadata": {},
   "outputs": [
    {
     "name": "stdout",
     "output_type": "stream",
     "text": [
      "ABCDEF\n"
     ]
    }
   ],
   "source": [
    "string = (\"abcdef\")\n",
    "result = (\"\")\n",
    "\n",
    "for i in string:\n",
    "    if i.islower():\n",
    "        result += i.upper()\n",
    "    else :\n",
    "        result += i.lower()\n",
    "\n",
    "print(result)"
   ]
  },
  {
   "cell_type": "code",
   "execution_count": 7,
   "metadata": {},
   "outputs": [
    {
     "name": "stdout",
     "output_type": "stream",
     "text": [
      "2 1 2\n",
      "2 2 4\n",
      "2 3 6\n",
      "2 4 8\n",
      "2 5 10\n",
      "2 6 12\n",
      "2 7 14\n",
      "2 8 16\n",
      "2 9 18\n",
      "3 1 3\n",
      "3 2 6\n",
      "3 3 9\n",
      "3 4 12\n",
      "3 5 15\n",
      "3 6 18\n",
      "3 7 21\n",
      "3 8 24\n",
      "3 9 27\n",
      "4 1 4\n",
      "4 2 8\n",
      "4 3 12\n",
      "4 4 16\n",
      "4 5 20\n",
      "4 6 24\n",
      "4 7 28\n",
      "4 8 32\n",
      "4 9 36\n",
      "5 1 5\n",
      "5 2 10\n",
      "5 3 15\n",
      "5 4 20\n",
      "5 5 25\n",
      "5 6 30\n",
      "5 7 35\n",
      "5 8 40\n",
      "5 9 45\n",
      "6 1 6\n",
      "6 2 12\n",
      "6 3 18\n",
      "6 4 24\n",
      "6 5 30\n",
      "6 6 36\n",
      "6 7 42\n",
      "6 8 48\n",
      "6 9 54\n",
      "7 1 7\n",
      "7 2 14\n",
      "7 3 21\n",
      "7 4 28\n",
      "7 5 35\n",
      "7 6 42\n",
      "7 7 49\n",
      "7 8 56\n",
      "7 9 63\n",
      "8 1 8\n",
      "8 2 16\n",
      "8 3 24\n",
      "8 4 32\n",
      "8 5 40\n",
      "8 6 48\n",
      "8 7 56\n",
      "8 8 64\n",
      "8 9 72\n",
      "9 1 9\n",
      "9 2 18\n",
      "9 3 27\n",
      "9 4 36\n",
      "9 5 45\n",
      "9 6 54\n",
      "9 7 63\n",
      "9 8 72\n",
      "9 9 81\n"
     ]
    }
   ],
   "source": [
    "i = 2\n",
    "j = 1 # 이걸 작성하면 j는 밖에 있어 안에 돌지 않고 결과값이 다르게 나온다.\n",
    "\n",
    "while i <= 9: #9까지 작성\n",
    "    j = 1\n",
    "    while j <= 9:\n",
    "        print(i, j, i * j)\n",
    "        j += 1 #j는 1씩 증가\n",
    "    i += 1"
   ]
  },
  {
   "cell_type": "code",
   "execution_count": 8,
   "metadata": {},
   "outputs": [
    {
     "name": "stdout",
     "output_type": "stream",
     "text": [
      "2 1 2\n",
      "2 2 4\n",
      "2 3 6\n",
      "2 4 8\n",
      "2 5 10\n",
      "2 6 12\n",
      "2 7 14\n",
      "2 8 16\n",
      "3 1 3\n",
      "3 2 6\n",
      "3 3 9\n",
      "3 4 12\n",
      "3 5 15\n",
      "3 6 18\n",
      "3 7 21\n",
      "3 8 24\n",
      "4 1 4\n",
      "4 2 8\n",
      "4 3 12\n",
      "4 4 16\n",
      "4 5 20\n",
      "4 6 24\n",
      "4 7 28\n",
      "4 8 32\n",
      "5 1 5\n",
      "5 2 10\n",
      "5 3 15\n",
      "5 4 20\n",
      "5 5 25\n",
      "5 6 30\n",
      "5 7 35\n",
      "5 8 40\n",
      "6 1 6\n",
      "6 2 12\n",
      "6 3 18\n",
      "6 4 24\n",
      "6 5 30\n",
      "6 6 36\n",
      "6 7 42\n",
      "6 8 48\n",
      "7 1 7\n",
      "7 2 14\n",
      "7 3 21\n",
      "7 4 28\n",
      "7 5 35\n",
      "7 6 42\n",
      "7 7 49\n",
      "7 8 56\n",
      "8 1 8\n",
      "8 2 16\n",
      "8 3 24\n",
      "8 4 32\n",
      "8 5 40\n",
      "8 6 48\n",
      "8 7 56\n",
      "8 8 64\n"
     ]
    }
   ],
   "source": [
    "for i in range(2, 9):\n",
    "    for j in range(1, 9):\n",
    "        print(i, j, i * j)"
   ]
  },
  {
   "cell_type": "code",
   "execution_count": 10,
   "metadata": {},
   "outputs": [
    {
     "name": "stdout",
     "output_type": "stream",
     "text": [
      "aBcDeF\n"
     ]
    }
   ],
   "source": [
    "def is_prime_num(n):\n",
    "    for i in range(2, n):\n",
    "        if n % i == 0:\n",
    "            return False\n",
    "    return True\n",
    "\n",
    "print (result)"
   ]
  },
  {
   "cell_type": "code",
   "execution_count": 17,
   "metadata": {},
   "outputs": [
    {
     "name": "stdout",
     "output_type": "stream",
     "text": [
      "2\n",
      "3\n",
      "5\n",
      "7\n"
     ]
    }
   ],
   "source": [
    "x = 10\n",
    "\n",
    "for i in range(2, x + 1):\n",
    "    for j in range(2, i + 1):\n",
    "        if (i == j):\n",
    "            print(i)\n",
    "        if (i % j == 0):\n",
    "            break\n",
    "        if i % j == 0:\n",
    "            print(i)"
   ]
  },
  {
   "cell_type": "markdown",
   "metadata": {},
   "source": [
    "### 완전 제곱수\n",
    "\n",
    "어떤 자연수를 제곱해서 만들어지는 수를 제곱수 (n2, 완전제곱수)라 한다."
   ]
  },
  {
   "cell_type": "code",
   "execution_count": null,
   "metadata": {},
   "outputs": [],
   "source": [
    "def perf_sqrt(base, exp): # 값을 넣어줌 base, exp\n",
    "    if base**(1/2) % 1 == 0: # \"%1 == 0 정수인지 아닌지 판별\"\n",
    "        print(base,exp) # debug 출력\n",
    "        return perf_sqrt(int(base**(1/2)), exp+1) # \"exp부분 지수 2의 자연수 부분 1식 증가\"\n",
    "    else :\n",
    "        return str(base) + '(' + str(exp)+')'"
   ]
  },
  {
   "cell_type": "code",
   "execution_count": 33,
   "metadata": {},
   "outputs": [
    {
     "name": "stdout",
     "output_type": "stream",
     "text": [
      "it's a prime number\n"
     ]
    }
   ],
   "source": [
    "x = 2\n",
    "ans = 1\n",
    "\n",
    "while ans ** 2 < x:\n",
    "    ans = ans + 1\n",
    "if ans == x:\n",
    "    print(\"it's a prime number\")\n",
    "else:\n",
    "    print(\"not a prime number\")\n"
   ]
  },
  {
   "cell_type": "markdown",
   "metadata": {},
   "source": [
    "### Module 03 : 문자열 조작, 추측 및 확인, 근사치, 이등분"
   ]
  },
  {
   "cell_type": "markdown",
   "metadata": {},
   "source": [
    "# Agenda"
   ]
  },
  {
   "cell_type": "code",
   "execution_count": 1,
   "metadata": {},
   "outputs": [
    {
     "name": "stdout",
     "output_type": "stream",
     "text": [
      "false\n"
     ]
    }
   ],
   "source": [
    "String s = \"abc\"; // 이런식으로 작성한다면?\n",
    "String s2 = new String(\"abc\");\n",
    "\n",
    "System.out.println(s == s2)"
   ]
  },
  {
   "cell_type": "code",
   "execution_count": 1,
   "metadata": {},
   "outputs": [
    {
     "data": {
      "text/plain": [
       "3"
      ]
     },
     "execution_count": 1,
     "metadata": {},
     "output_type": "execute_result"
    }
   ],
   "source": [
    "s = 'abc'\n",
    "len(s)"
   ]
  },
  {
   "cell_type": "code",
   "execution_count": 10,
   "metadata": {},
   "outputs": [
    {
     "data": {
      "text/plain": [
       "'df'"
      ]
     },
     "execution_count": 10,
     "metadata": {},
     "output_type": "execute_result"
    }
   ],
   "source": [
    "s = \"abcdefghijk\"\n",
    "\n",
    "s[3:6]\n",
    "s[3:6:2]\n"
   ]
  },
  {
   "cell_type": "code",
   "execution_count": 12,
   "metadata": {},
   "outputs": [
    {
     "data": {
      "text/plain": [
       "'etra'"
      ]
     },
     "execution_count": 12,
     "metadata": {},
     "output_type": "execute_result"
    }
   ],
   "source": [
    "target = \"Yesterday, all my troubles seems so far away\"\n",
    "result = target[::-1] # 문자열 거꾸로 출력 하기 [::-1]\n",
    "result = target[1:8:2]\n",
    "result = target\n",
    "\n",
    "for s in target:\n",
    "    \n"
   ]
  },
  {
   "cell_type": "code",
   "execution_count": 14,
   "metadata": {},
   "outputs": [
    {
     "name": "stdout",
     "output_type": "stream",
     "text": [
      "Cube root of 8 is, guess\n"
     ]
    }
   ],
   "source": [
    "cube = 8\n",
    "for guess in range(cube + 1):\n",
    "    if guess**3 == cube:\n",
    "        print(\"Cube root of\", cube, \"is, guess\")"
   ]
  },
  {
   "cell_type": "code",
   "execution_count": null,
   "metadata": {},
   "outputs": [],
   "source": [
    "cube = 8\n",
    "for guess in range(abs(cube)+1):\n",
    "    if guess**3 >= abs(cube):\n",
    "        break\n",
    "if guess**3 != abs(cube):\n",
    "    print(cube, 'is not a perfect cube')\n",
    "else:\n",
    "    if cube < 0:\n",
    "        guess = -guess\n",
    "    print('Cube root of '+str(cube)+' is '+str(guess))"
   ]
  },
  {
   "cell_type": "markdown",
   "metadata": {},
   "source": [
    "###Bisection Search - cube root"
   ]
  },
  {
   "cell_type": "code",
   "execution_count": 15,
   "metadata": {},
   "outputs": [
    {
     "name": "stdout",
     "output_type": "stream",
     "text": [
      "num_guess = 14\n",
      "3.000091552734375 is close to the cobe root of 27\n"
     ]
    }
   ],
   "source": [
    "cube = 27\n",
    "epsilon = 0.01\n",
    "num_guesses = 0 # 연산 횟수 공간\n",
    "low = 0 # 검색 범위 시작 초기값 0\n",
    "high = cube # 변수는 상한 \n",
    "guess = (high + low) / 2.0 # 추측값으로 초기에는 Low, heigh 의 중간값 설정\n",
    "\n",
    "while abs(guess**3 - cube) >= epsilon: # 조건을 검사하면서 실행 abs 절댓값 \n",
    "    if guess**3 < cube: # 큐브보다 작은지?\n",
    "        low = guess # 작으면 업데이트 \n",
    "    else:\n",
    "        high = guess # 그렇지 않으면 이렇게 업데이트\n",
    "    guess = (high + low) / 2.0 \n",
    "    num_guesses += 1\n",
    "print('num_guess =', num_guesses)\n",
    "print(guess, 'is close to the cobe root of', cube)"
   ]
  },
  {
   "cell_type": "code",
   "execution_count": 16,
   "metadata": {},
   "outputs": [
    {
     "data": {
      "text/plain": [
       "{'a': 1, 'b': 2, 'n': 1}"
      ]
     },
     "execution_count": 16,
     "metadata": {},
     "output_type": "execute_result"
    }
   ],
   "source": [
    "0\n",
    "1\n",
    "{'a': 1, 'b':2, 'n':1}\n"
   ]
  },
  {
   "cell_type": "code",
   "execution_count": 17,
   "metadata": {},
   "outputs": [],
   "source": [
    "nums = {1,2,3,4,5,6,7,8,9,10,11,12,13,14,15,16,17,18,19,20}"
   ]
  },
  {
   "cell_type": "code",
   "execution_count": null,
   "metadata": {},
   "outputs": [],
   "source": [
    "target = 20\n",
    "start = 0\n",
    "end = len(array)-1\n",
    "mid = 0\n",
    "\n",
    "while(start <= end) -1:\n",
    "    if (array[mid] == target):\n",
    "    print(end)\n",
    "    "
   ]
  },
  {
   "cell_type": "code",
   "execution_count": 8,
   "metadata": {},
   "outputs": [],
   "source": [
    "nums = {1,2,3,4,5,6,7,8,9,10,11,12,13,14,15,16,17,18,19,20}"
   ]
  },
  {
   "cell_type": "code",
   "execution_count": 9,
   "metadata": {},
   "outputs": [
    {
     "ename": "SyntaxError",
     "evalue": "invalid syntax (417732145.py, line 6)",
     "output_type": "error",
     "traceback": [
      "\u001b[0;36m  Cell \u001b[0;32mIn[9], line 6\u001b[0;36m\u001b[0m\n\u001b[0;31m    while(start <= end) -1;\u001b[0m\n\u001b[0m                          ^\u001b[0m\n\u001b[0;31mSyntaxError\u001b[0m\u001b[0;31m:\u001b[0m invalid syntax\n"
     ]
    }
   ],
   "source": [
    "target = 27\n",
    "start = 0\n",
    "end = len(array)-1\n",
    "mid = 0\n",
    "\n",
    "while(start <= end) -1:\n",
    "    if (array[mid] == target):\n",
    "    print(end)\n",
    "\n",
    "    while low <= high:\n",
    "        mid = (low + high) // 2\n",
    "        guess = nums[mid]\n",
    "\n",
    "        if guess == target:\n",
    "            return mid  # 원하는 값 찾음\n",
    "        elif guess < target:\n",
    "            low = mid + 1  # 중간값보다 큰 부분을 검색\n",
    "        else:\n",
    "            high = mid - 1  # 중간값보다 작은 부분을 검색\n",
    "\n",
    "     # 찾는 값이 리스트에 없음\n",
    "\n",
    "\n",
    "target = 10  # 찾고자 하는 값\n",
    "result = binary_search(nums, target)\n",
    "\n",
    "if result != -1:\n",
    "    print(f\"찾는 값 {target}은 리스트의 인덱스 {result}에 있습니다.\")\n",
    "else:\n",
    "    print(f\"찾는 값 {target}을 리스트에서 찾을 수 없습니다.\")\n"
   ]
  },
  {
   "cell_type": "code",
   "execution_count": null,
   "metadata": {},
   "outputs": [],
   "source": [
    "nums = {1,2,3,4,5,6,7,8,9,10,11,12,13,14,15,16,17,18,19,20}\n",
    "find = 5\n",
    "low ()\n",
    "heigh ()\n",
    "\n",
    "while()"
   ]
  }
 ],
 "metadata": {
  "kernelspec": {
   "display_name": "base",
   "language": "python",
   "name": "python3"
  },
  "language_info": {
   "codemirror_mode": {
    "name": "ipython",
    "version": 3
   },
   "file_extension": ".py",
   "mimetype": "text/x-python",
   "name": "python",
   "nbconvert_exporter": "python",
   "pygments_lexer": "ipython3",
   "version": "3.9.18"
  }
 },
 "nbformat": 4,
 "nbformat_minor": 2
}
