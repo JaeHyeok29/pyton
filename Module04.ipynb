{
 "cells": [
  {
   "cell_type": "code",
   "execution_count": 1,
   "metadata": {},
   "outputs": [
    {
     "name": "stdout",
     "output_type": "stream",
     "text": [
      "inside is_even\n"
     ]
    },
    {
     "data": {
      "text/plain": [
       "True"
      ]
     },
     "execution_count": 1,
     "metadata": {},
     "output_type": "execute_result"
    }
   ],
   "source": [
    "def is_even(i):\n",
    "    \"\"\"\n",
    "    input: i, a positive int\n",
    "    Returns True if i is even, otherwise False\n",
    "    \"\"\"\n",
    "    print(\"inside is_even\")\n",
    "    return i % 2 == 0\n",
    "\n",
    "is_even(0)"
   ]
  },
  {
   "cell_type": "markdown",
   "metadata": {},
   "source": [
    "# 함수 BODY"
   ]
  },
  {
   "cell_type": "code",
   "execution_count": 5,
   "metadata": {},
   "outputs": [
    {
     "ename": "SyntaxError",
     "evalue": "'return' outside function (2334346002.py, line 13)",
     "output_type": "error",
     "traceback": [
      "\u001b[0;36m  Cell \u001b[0;32mIn[5], line 13\u001b[0;36m\u001b[0m\n\u001b[0;31m    return result\u001b[0m\n\u001b[0m    ^\u001b[0m\n\u001b[0;31mSyntaxError\u001b[0m\u001b[0;31m:\u001b[0m 'return' outside function\n"
     ]
    }
   ],
   "source": [
    "target = \"AbCdEf\"\n",
    "result = \"\"\n",
    "\n",
    "def changeLetters(target): # 파이썬은 타입 수정을 하지 않는다.\n",
    "    \"\"\"전달받은 문자열의 대 소문자를 변환합니다. (예 : ABC -> aBc)\"\"\"\n",
    "    # input : 원래 문자열\n",
    "    # ouput : 대소문자가 변환된 문자열\n",
    "for s in target:\n",
    "    if ord(s) in range(97, 122):\n",
    "        result = result + chr(ord(s) - 32)\n",
    "    else:\n",
    "        result = result + chr(ord(s) + 32)\n",
    "    return result\n",
    "\n",
    "print(target)\n",
    "print(chageLetters(target))\n",
    "\n"
   ]
  },
  {
   "cell_type": "code",
   "execution_count": 14,
   "metadata": {},
   "outputs": [
    {
     "name": "stdout",
     "output_type": "stream",
     "text": [
      "2 1 2\n",
      "2 2 4\n",
      "2 3 6\n",
      "2 4 8\n",
      "2 5 10\n",
      "2 6 12\n",
      "2 7 14\n",
      "2 8 16\n",
      "2 9 18\n",
      "3 1 3\n",
      "3 2 6\n",
      "3 3 9\n",
      "3 4 12\n",
      "3 5 15\n",
      "3 6 18\n",
      "3 7 21\n",
      "3 8 24\n",
      "3 9 27\n",
      "4 1 4\n",
      "4 2 8\n",
      "4 3 12\n",
      "4 4 16\n",
      "4 5 20\n",
      "4 6 24\n",
      "4 7 28\n",
      "4 8 32\n",
      "4 9 36\n",
      "5 1 5\n",
      "5 2 10\n",
      "5 3 15\n",
      "5 4 20\n",
      "5 5 25\n",
      "5 6 30\n",
      "5 7 35\n",
      "5 8 40\n",
      "5 9 45\n",
      "6 1 6\n",
      "6 2 12\n",
      "6 3 18\n",
      "6 4 24\n",
      "6 5 30\n",
      "6 6 36\n",
      "6 7 42\n",
      "6 8 48\n",
      "6 9 54\n",
      "7 1 7\n",
      "7 2 14\n",
      "7 3 21\n",
      "7 4 28\n",
      "7 5 35\n",
      "7 6 42\n",
      "7 7 49\n",
      "7 8 56\n",
      "7 9 63\n",
      "8 1 8\n",
      "8 2 16\n",
      "8 3 24\n",
      "8 4 32\n",
      "8 5 40\n",
      "8 6 48\n",
      "8 7 56\n",
      "8 8 64\n",
      "8 9 72\n",
      "9 1 9\n",
      "9 2 18\n",
      "9 3 27\n",
      "9 4 36\n",
      "9 5 45\n",
      "9 6 54\n",
      "9 7 63\n",
      "9 8 72\n",
      "9 9 81\n",
      "None\n",
      "2 1 2\n",
      "2 2 4\n",
      "2 3 6\n",
      "2 4 8\n",
      "2 5 10\n",
      "2 6 12\n",
      "2 7 14\n",
      "2 8 16\n",
      "2 9 18\n",
      "3 1 3\n",
      "3 2 6\n",
      "3 3 9\n",
      "3 4 12\n",
      "3 5 15\n",
      "3 6 18\n",
      "3 7 21\n",
      "3 8 24\n",
      "3 9 27\n",
      "4 1 4\n",
      "4 2 8\n",
      "4 3 12\n",
      "4 4 16\n",
      "4 5 20\n",
      "4 6 24\n",
      "4 7 28\n",
      "4 8 32\n",
      "4 9 36\n",
      "5 1 5\n",
      "5 2 10\n",
      "5 3 15\n",
      "5 4 20\n",
      "5 5 25\n",
      "5 6 30\n",
      "5 7 35\n",
      "5 8 40\n",
      "5 9 45\n",
      "6 1 6\n",
      "6 2 12\n",
      "6 3 18\n",
      "6 4 24\n",
      "6 5 30\n",
      "6 6 36\n",
      "6 7 42\n",
      "6 8 48\n",
      "6 9 54\n",
      "7 1 7\n",
      "7 2 14\n",
      "7 3 21\n",
      "7 4 28\n",
      "7 5 35\n",
      "7 6 42\n",
      "7 7 49\n",
      "7 8 56\n",
      "7 9 63\n",
      "8 1 8\n",
      "8 2 16\n",
      "8 3 24\n",
      "8 4 32\n",
      "8 5 40\n",
      "8 6 48\n",
      "8 7 56\n",
      "8 8 64\n",
      "8 9 72\n",
      "9 1 9\n",
      "9 2 18\n",
      "9 3 27\n",
      "9 4 36\n",
      "9 5 45\n",
      "9 6 54\n",
      "9 7 63\n",
      "9 8 72\n",
      "9 9 81\n",
      "2 1 2\n",
      "2 2 4\n",
      "2 3 6\n",
      "2 4 8\n",
      "2 5 10\n",
      "2 6 12\n",
      "2 7 14\n",
      "2 8 16\n",
      "2 9 18\n"
     ]
    }
   ],
   "source": [
    "i = 2\n",
    "\n",
    "def multification(times):\n",
    "    \"\"\"\n",
    "    전달받은 값에 해당하는 구구단 표를 출력합니다.\n",
    "    input : 구구단의 단 (예 : 2: 2단, 3: 3단)\n",
    "    \"\"\"\n",
    "    #for문으로 고치면?\n",
    "    for i in range(1, 10):\n",
    "        print(times, i, i * times)\n",
    "\n",
    "def multificationTable():\n",
    "    for i in range(2, 10):\n",
    "        multification(i)\n",
    "\n",
    "print(multificationTable())\n",
    "\n",
    "\n",
    "while i <= 9:\n",
    "    j = 1\n",
    "    while j <= 9:\n",
    "        print(i, j, i * j)\n",
    "        j += 1\n",
    "    i += 1\n",
    "\n",
    "\n",
    "multification(2)"
   ]
  },
  {
   "cell_type": "code",
   "execution_count": 18,
   "metadata": {},
   "outputs": [
    {
     "name": "stdout",
     "output_type": "stream",
     "text": [
      "2\n",
      "3\n",
      "5\n",
      "7\n"
     ]
    }
   ],
   "source": [
    "x = 10\n",
    "\n",
    "def isPrime(num):\n",
    "    for i in range(2, num):\n",
    "        if (num % i == 0): # 이 영역은 (1, 10)을 넣고 돌리는 곳곳\n",
    "            return False\n",
    "    return True # true 이면 2,3,5,7\n",
    "\n",
    "def getPrmesInRange(start, end):\n",
    "    if start == 1:\n",
    "        start = 2\n",
    "    for i in range(start, end): #1,10 넣고 위에 for문 돌림\n",
    "        if(isPrime(i)):\n",
    "            print(i) # 2,3,5,7 소수애들만 걸려 출력\n",
    "\"\"\"\n",
    "for i in range(2, x + 1):\n",
    "    for j in range(2, i + 1):\n",
    "        if (i == j):\n",
    "            print(i)\n",
    "        if (i % j == 0):\n",
    "            break\n",
    "\"\"\"\n",
    "\n",
    "getPrmesInRange(1, 10)"
   ]
  },
  {
   "cell_type": "markdown",
   "metadata": {},
   "source": [
    "아래는 이러한 형식"
   ]
  },
  {
   "cell_type": "code",
   "execution_count": null,
   "metadata": {},
   "outputs": [],
   "source": [
    "x = 10\n",
    "\n",
    "def primeFactors(num):\n",
    "    for i in range(2, x):\n",
    "        if x % i == 0:\n",
    "            print(i)\n",
    "            x = x // i"
   ]
  },
  {
   "cell_type": "markdown",
   "metadata": {},
   "source": [
    "list 형식"
   ]
  },
  {
   "cell_type": "code",
   "execution_count": null,
   "metadata": {},
   "outputs": [],
   "source": [
    "x = 10\n",
    "\n",
    "def primeFactors(num):\n",
    "    list = []\n",
    "\n",
    "    for i in range(2, x):\n",
    "        if x % i == 0:\n",
    "            list[len(list):] = [i]\n",
    "            x = x // i\n",
    "    return tuple(list)"
   ]
  },
  {
   "cell_type": "code",
   "execution_count": 30,
   "metadata": {},
   "outputs": [
    {
     "data": {
      "text/plain": [
       "(5,)"
      ]
     },
     "execution_count": 30,
     "metadata": {},
     "output_type": "execute_result"
    }
   ],
   "source": [
    "x = 9\n",
    "\n",
    "def primeFactors(num):\n",
    "    list = []\n",
    "\n",
    "    for i in range(3, x): \n",
    "        if num % i == 0:\n",
    "            #list[len(list):] = [i] # 이렇게 작성하면 헷갈려서 아래 코드로\n",
    "            list.append(i)\n",
    "            num = num // i # 몫\n",
    "    return tuple(list) # tuple 담아둔다.\n",
    "\n",
    "primeFactors(10)"
   ]
  },
  {
   "cell_type": "markdown",
   "metadata": {},
   "source": [
    "# Variable Scope"
   ]
  },
  {
   "cell_type": "code",
   "execution_count": 31,
   "metadata": {},
   "outputs": [
    {
     "name": "stdout",
     "output_type": "stream",
     "text": [
      "in f(x) : x = 4\n"
     ]
    }
   ],
   "source": [
    "def f(x):\n",
    "    x  = x + 1\n",
    "    print('in f(x) : x =', x)\n",
    "    return x\n",
    "\n",
    "x = 3\n",
    "z = f(x)"
   ]
  },
  {
   "cell_type": "markdown",
   "metadata": {},
   "source": [
    "# 경고 : return 문이 없을 때"
   ]
  },
  {
   "cell_type": "code",
   "execution_count": null,
   "metadata": {},
   "outputs": [],
   "source": [
    "def is_even(i):\n",
    "    \"\"\"\n",
    "    Input: i, a positive int\n",
    "    Does not return anything\n",
    "    \"\"\"\n",
    "    1 % 2 == 0"
   ]
  },
  {
   "cell_type": "markdown",
   "metadata": {},
   "source": [
    "# 실습"
   ]
  },
  {
   "cell_type": "code",
   "execution_count": 32,
   "metadata": {},
   "outputs": [
    {
     "ename": "TypeError",
     "evalue": "'int' object is not callable",
     "output_type": "error",
     "traceback": [
      "\u001b[0;31m---------------------------------------------------------------------------\u001b[0m",
      "\u001b[0;31mTypeError\u001b[0m                                 Traceback (most recent call last)",
      "\u001b[1;32m/home/hyeok/Documents/Java/Python/Module04.ipynb 셀 17\u001b[0m line \u001b[0;36m9\n\u001b[1;32m      <a href='vscode-notebook-cell:/home/hyeok/Documents/Java/Python/Module04.ipynb#X25sZmlsZQ%3D%3D?line=5'>6</a>\u001b[0m \u001b[39mdef\u001b[39;00m \u001b[39mexam2\u001b[39m():\n\u001b[1;32m      <a href='vscode-notebook-cell:/home/hyeok/Documents/Java/Python/Module04.ipynb#X25sZmlsZQ%3D%3D?line=6'>7</a>\u001b[0m     \u001b[39mprint\u001b[39m(\u001b[39m\"\u001b[39m\u001b[39mit\u001b[39m\u001b[39m'\u001b[39m\u001b[39ms exam\u001b[39m\u001b[39m\"\u001b[39m)\n\u001b[0;32m----> <a href='vscode-notebook-cell:/home/hyeok/Documents/Java/Python/Module04.ipynb#X25sZmlsZQ%3D%3D?line=8'>9</a>\u001b[0m exam(\u001b[39m1\u001b[39;49m, \u001b[39m2\u001b[39;49m)\n",
      "\u001b[1;32m/home/hyeok/Documents/Java/Python/Module04.ipynb 셀 17\u001b[0m line \u001b[0;36m2\n\u001b[1;32m      <a href='vscode-notebook-cell:/home/hyeok/Documents/Java/Python/Module04.ipynb#X25sZmlsZQ%3D%3D?line=0'>1</a>\u001b[0m \u001b[39mdef\u001b[39;00m \u001b[39mexam\u001b[39m(a, b):\n\u001b[0;32m----> <a href='vscode-notebook-cell:/home/hyeok/Documents/Java/Python/Module04.ipynb#X25sZmlsZQ%3D%3D?line=1'>2</a>\u001b[0m     a()\n\u001b[1;32m      <a href='vscode-notebook-cell:/home/hyeok/Documents/Java/Python/Module04.ipynb#X25sZmlsZQ%3D%3D?line=2'>3</a>\u001b[0m     b \u001b[39m+\u001b[39m\u001b[39m=\u001b[39m \u001b[39m1\u001b[39m\n\u001b[1;32m      <a href='vscode-notebook-cell:/home/hyeok/Documents/Java/Python/Module04.ipynb#X25sZmlsZQ%3D%3D?line=3'>4</a>\u001b[0m     \u001b[39mreturn\u001b[39;00m b\n",
      "\u001b[0;31mTypeError\u001b[0m: 'int' object is not callable"
     ]
    }
   ],
   "source": [
    "def exam(a, b):\n",
    "    a() # 함수\n",
    "    b += 1\n",
    "    return b\n",
    "\n",
    "def exam2(): # a 함수에 들어간다.\n",
    "    print(\"it's exam\")\n",
    "\n",
    "exam(1, 2) # (함수 , value)"
   ]
  },
  {
   "cell_type": "markdown",
   "metadata": {},
   "source": [
    "이런식으로 작성하면 함수가 아니라고 작성이 된다."
   ]
  },
  {
   "cell_type": "code",
   "execution_count": 33,
   "metadata": {},
   "outputs": [
    {
     "name": "stdout",
     "output_type": "stream",
     "text": [
      "it's exam\n"
     ]
    },
    {
     "data": {
      "text/plain": [
       "3"
      ]
     },
     "execution_count": 33,
     "metadata": {},
     "output_type": "execute_result"
    }
   ],
   "source": [
    "def exam(a, b):\n",
    "    a()\n",
    "    b += 1\n",
    "    return b\n",
    "\n",
    "def exam2():\n",
    "    print(\"it's exam\")\n",
    "\n",
    "exam(exam2, 2)"
   ]
  },
  {
   "cell_type": "markdown",
   "metadata": {},
   "source": [
    "이렇게 작성하면 된다."
   ]
  },
  {
   "cell_type": "code",
   "execution_count": 35,
   "metadata": {},
   "outputs": [
    {
     "data": {
      "text/plain": [
       "3"
      ]
     },
     "execution_count": 35,
     "metadata": {},
     "output_type": "execute_result"
    }
   ],
   "source": [
    "def exam(a, b, c):\n",
    "    return a(b, c) \n",
    "\n",
    "def add(a, b):\n",
    "    return a + b\n",
    "\n",
    "exam(add, 1, 2)"
   ]
  },
  {
   "cell_type": "code",
   "execution_count": 36,
   "metadata": {},
   "outputs": [
    {
     "data": {
      "text/plain": [
       "2"
      ]
     },
     "execution_count": 36,
     "metadata": {},
     "output_type": "execute_result"
    }
   ],
   "source": [
    "def exam(a, b, c):\n",
    "    return a(b, c) \n",
    "\n",
    "def add(a, b):\n",
    "    return a + b\n",
    "\n",
    "def mult(a, b):\n",
    "    return a * b\n",
    "\n",
    "exam(mult, 1, 2)"
   ]
  },
  {
   "cell_type": "markdown",
   "metadata": {},
   "source": [
    "파이썬은 객체라 이러한 형태로 작성이될 수 있다 반면 자바는 이렇게 작성이 되지 않는다.\n",
    "\n"
   ]
  },
  {
   "cell_type": "code",
   "execution_count": null,
   "metadata": {},
   "outputs": [],
   "source": [
    "def exam(a, b, c):\n",
    "    return a(b, c) \n",
    "\n",
    "# add = lambda a, b : a * b, 1, 2\n",
    "\n",
    "exam(lambda a, b: a * b, 1, 2)"
   ]
  },
  {
   "cell_type": "markdown",
   "metadata": {},
   "source": [
    "위는 람다식을 작성해보면 이러한 식으로 작성된다.\n",
    "람다는 함수이지만 이름도 없고 파라미터도 없는 놈이다.\n",
    "\n",
    "아래는 위 파이썬 람다식을 자바 형태로 남긴다면 어떻게 되는지를 작성해보았다."
   ]
  },
  {
   "cell_type": "code",
   "execution_count": 1,
   "metadata": {},
   "outputs": [],
   "source": [
    "///home/hyeok/Documents/Java/Python/lamda.java \n",
    "import java.util.function.BiFunction;\n",
    "\n",
    "public class lamda {\n",
    "    \n",
    "    public static void main(String[] args) {\n",
    "        BiFunction<Integer, Integer, Integer> multy = (a, b) -> a * b;\n",
    "            int result = exam(multy, 1, 2);\n",
    "            System.out.println(result);\n",
    "        }\n",
    "\n",
    "        public static int exam(BiFunction<Integer, Integer, Integer> function, int a, int b) {\n",
    "\n",
    "            return function.apply(a, b);\n",
    "        }\n",
    "    }\n",
    "\n"
   ]
  },
  {
   "cell_type": "code",
   "execution_count": null,
   "metadata": {},
   "outputs": [],
   "source": [
    "inits = list(range(1,10))\n",
    "\n",
    "def changeElement(map,iterable):\n",
    "    result = []\n",
    "    for i in iterable:\n",
    "        result.append(map(i))\n",
    "    return result\n",
    "\n",
    "def add(a):\n",
    "    return a+1\n",
    "\n",
    "inits = changeElement(lambda x: x+3,inits)\n",
    "\n",
    "inits"
   ]
  }
 ],
 "metadata": {
  "kernelspec": {
   "display_name": "base",
   "language": "python",
   "name": "python3"
  },
  "language_info": {
   "codemirror_mode": "java",
   "file_extension": ".jshell",
   "mimetype": "text/x-java-source",
   "name": "python",
   "pygments_lexer": "java",
   "version": "3.9.18"
  }
 },
 "nbformat": 4,
 "nbformat_minor": 2
}
