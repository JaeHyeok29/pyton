{
 "cells": [
  {
   "cell_type": "markdown",
   "metadata": {},
   "source": [
    "*** 곱셈 recursive solution ***"
   ]
  },
  {
   "cell_type": "code",
   "execution_count": null,
   "metadata": {},
   "outputs": [],
   "source": [
    "def mult_iter(a, b):\n",
    "    result = 0\n",
    "    while b > 0:        # iteration\n",
    "        result += a     # computation의 현재 값, 덧셈이 진행\n",
    "        b -= 1          # Iteration 변수의 현재 값\n",
    "    return result"
   ]
  },
  {
   "cell_type": "code",
   "execution_count": 4,
   "metadata": {},
   "outputs": [
    {
     "data": {
      "text/plain": [
       "6"
      ]
     },
     "execution_count": 4,
     "metadata": {},
     "output_type": "execute_result"
    }
   ],
   "source": [
    "def mult_iter(a, b):\n",
    "    result = 0\n",
    "    while b > 0:        # iteration\n",
    "        result += a     # computation의 현재 값, 덧셈이 진행\n",
    "        b -= 1          # Iteration 변수의 현재 값\n",
    "    return result\n",
    "\n",
    "mult_iter(2, 3)\n"
   ]
  },
  {
   "cell_type": "code",
   "execution_count": 9,
   "metadata": {},
   "outputs": [
    {
     "data": {
      "text/plain": [
       "6"
      ]
     },
     "execution_count": 9,
     "metadata": {},
     "output_type": "execute_result"
    }
   ],
   "source": [
    "def mult(a, b):\n",
    "    if b == 1:      # base case\n",
    "        return a\n",
    "    else:\n",
    "        return a + mult(a, b - 1)   # recursive step\n",
    "    \n",
    "mult (2, 3)"
   ]
  },
  {
   "cell_type": "markdown",
   "metadata": {},
   "source": [
    "# Factorial"
   ]
  },
  {
   "cell_type": "code",
   "execution_count": 12,
   "metadata": {},
   "outputs": [
    {
     "name": "stdout",
     "output_type": "stream",
     "text": [
      "실패!\n"
     ]
    }
   ],
   "source": [
    "def changeLetter(target, result, location):\n",
    "    if (len(result) == len(target)):\n",
    "        return result\n",
    "    else:\n",
    "        if(ord(target[location]) in range(97, 122)):\n",
    "            result = result + chr(ord(target[location]) -32)\n",
    "        else:\n",
    "            result = result + chr(ord(target[location]) -32)\n",
    "        return changeLetter(target, result, location +1)\n",
    "    \n",
    "s = 'aBcDe'\n",
    "answer = 'AbCdE'\n",
    "\n",
    "if (answer == changeLetter(s, '', 0)):\n",
    "    print('성공!')\n",
    "else:\n",
    "    print(\"실패!\")"
   ]
  },
  {
   "cell_type": "code",
   "execution_count": 19,
   "metadata": {},
   "outputs": [
    {
     "name": "stdout",
     "output_type": "stream",
     "text": [
      "실패!\n"
     ]
    }
   ],
   "source": [
    "def changeLetter(target, result='', location=0): # 3개의 매개변수를 가짐 \n",
    "    #(변환하려는 문자열, 현재까지 변환된 결과 문자열, 현재 처리중인 문자의 위치)\n",
    "    if (len(result) == len(target)): # result, target길이가 같으면 현재까지 변환된 결과 반환 후 재귀함수 종료\n",
    "        return result \n",
    "    else:\n",
    "        if(ord(target[location]) in range(97, 122)): # 문자 (대,소문자) 검사\n",
    "            result = result + chr(ord(target[location]) -32) # ascii값 97~122사이 해당 문자를 대문자 변환 위해 -32 감소 시킨 문자를 result\n",
    "        else:\n",
    "            result = result + chr(ord(target[location]) -32)\n",
    "        return changeLetter(target, result, location +1) # location +1 증가시켜 다음 문자 처리하도록 재귀함수 호출 \n",
    "    \n",
    "s = 'aBcDe'\n",
    "answer = 'AbCdE'\n",
    "\n",
    "if (answer == changeLetter(s, '', 0)):\n",
    "    print('성공!')\n",
    "else:\n",
    "    print(\"실패!\")"
   ]
  },
  {
   "cell_type": "markdown",
   "metadata": {},
   "source": [
    "자바 형식으로 만들어보자."
   ]
  },
  {
   "cell_type": "code",
   "execution_count": 22,
   "metadata": {},
   "outputs": [
    {
     "ename": "TypeError",
     "evalue": "multipifcation() missing 1 required positional argument: 'number'",
     "output_type": "error",
     "traceback": [
      "\u001b[0;31m---------------------------------------------------------------------------\u001b[0m",
      "\u001b[0;31mTypeError\u001b[0m                                 Traceback (most recent call last)",
      "\u001b[1;32m/home/hyeok/Documents/Java/Python/Module06.ipynb 셀 9\u001b[0m line \u001b[0;36m8\n\u001b[1;32m      <a href='vscode-notebook-cell:/home/hyeok/Documents/Java/Python/Module06.ipynb#X13sZmlsZQ%3D%3D?line=4'>5</a>\u001b[0m         \u001b[39mprint\u001b[39m(times, number, times \u001b[39m*\u001b[39m number)\n\u001b[1;32m      <a href='vscode-notebook-cell:/home/hyeok/Documents/Java/Python/Module06.ipynb#X13sZmlsZQ%3D%3D?line=5'>6</a>\u001b[0m         multipifcation(times, number \u001b[39m+\u001b[39m \u001b[39m1\u001b[39m)\n\u001b[0;32m----> <a href='vscode-notebook-cell:/home/hyeok/Documents/Java/Python/Module06.ipynb#X13sZmlsZQ%3D%3D?line=7'>8</a>\u001b[0m multipifcation(\u001b[39m3\u001b[39;49m)\n",
      "\u001b[0;31mTypeError\u001b[0m: multipifcation() missing 1 required positional argument: 'number'"
     ]
    }
   ],
   "source": [
    "def multipifcation(times, number):\n",
    "    if(number > 9):\n",
    "        return\n",
    "    else:\n",
    "        print(times, number, times * number)\n",
    "        multipifcation(times, number + 1)\n",
    "\n",
    "multipifcation(3)"
   ]
  },
  {
   "cell_type": "code",
   "execution_count": 24,
   "metadata": {},
   "outputs": [
    {
     "name": "stdout",
     "output_type": "stream",
     "text": [
      "3 1 3\n",
      "3 2 6\n",
      "3 3 9\n",
      "3 4 12\n",
      "3 5 15\n",
      "3 6 18\n",
      "3 7 21\n",
      "3 8 24\n",
      "3 9 27\n"
     ]
    }
   ],
   "source": [
    "def multipifcation(times, number=1): #(곱셈표 사용될 숫자, 현재 곱셈 숫자)\n",
    "    if(number > 9): \n",
    "        return\n",
    "    else:\n",
    "        print(times, number, times * number)\n",
    "        multipifcation(times, number + 1) # 1증가 시켜 다음 숫자 처리 \n",
    "        \n",
    "multipifcation(3)"
   ]
  },
  {
   "cell_type": "markdown",
   "metadata": {},
   "source": [
    "자바 형식으로 작성 "
   ]
  },
  {
   "cell_type": "code",
   "execution_count": null,
   "metadata": {},
   "outputs": [],
   "source": [
    "\"\"\"return\n",
    "else:\n",
    "    print(times ,number, times * number)\n",
    "    multipifcation(times, number + 1)\"\"\"\n",
    "\n",
    "def multipifcation(tableNo=2, limit=9):\n",
    "    if (tableNo > limit):\n",
    "        return\n",
    "    else:\n",
    "        multipifcation(tableNo)\n",
    "        multipifcationTable(tableNo + 1, limit)\n",
    "\n",
    "multipifcationTable(limit=19)"
   ]
  },
  {
   "cell_type": "markdown",
   "metadata": {},
   "source": [
    "코드 예시는 Python으로 작성된 코드입니다. Python과 Java는 다른 프로그래밍 언어이며, 문법과 구조가 상당히 다릅니다. Python 코드를 Java 코드로 변환하려면 Python 코드의 구조와 논리를 이해하고 해당 기능을 Java로 다시 구현해야 합니다.\n",
    "\n",
    "예를 들어, 주어진 Python 코드는 재귀 함수를 사용하여 곱셈 표를 출력하는 방법을 보여주고 있습니다. Python과 Java 모두 재귀 함수를 지원하므로 Java에서 비슷한 작업을 수행할 수 있지만 Java의 문법과 구조로 코드를 다시 작성해야 합니다.\n",
    "\n",
    "Python 코드를 Java로 변환하려면 다음 단계를 수행해야 합니다:\n",
    "\n",
    "1. Java 메서드와 클래스를 정의하는 Java 클래스를 작성합니다.\n",
    "2. 재귀 함수를 Java 메서드로 변환합니다. Python에서 재귀 호출을 사용한 부분을 Java 메서드 호출로 변경해야 합니다.\n",
    "3. Java에서 사용하는 적절한 출력 방식(예: `System.out.println`)을 사용하여 결과를 표시합니다.\n",
    "\n",
    "또한 Python 코드에서 사용한 Python 특정 함수와 구조를 Java의 해당 함수 및 구조로 대체해야 합니다. 이러한 변경 사항은 프로그램의 목적에 따라 달라질 수 있으므로 정확한 변환에 필요한 지식과 이해가 필요합니다.\n",
    "\n",
    "Python 코드를 Java로 변환하는 프로세스는 Python 코드의 목적과 로직을 이해하고 Java로 다시 작성해야 하므로 Python 코드를 직접 변환하려면 Java 프로그래밍 경험이 필요합니다."
   ]
  },
  {
   "cell_type": "markdown",
   "metadata": {},
   "source": [
    "# Iteration VS Recursion"
   ]
  },
  {
   "cell_type": "code",
   "execution_count": null,
   "metadata": {},
   "outputs": [],
   "source": [
    "def factorial_iter(n):\n",
    "    prod = 1\n",
    "    for i in range(1, n + 1):\n",
    "        prod *= i\n",
    "    return prod"
   ]
  },
  {
   "cell_type": "code",
   "execution_count": null,
   "metadata": {},
   "outputs": [],
   "source": [
    "def factorial(n):\n",
    "    if n == 1:\n",
    "        return 1\n",
    "    else:\n",
    "        return n * factorial(n - 1)"
   ]
  },
  {
   "cell_type": "markdown",
   "metadata": {},
   "source": [
    "실습"
   ]
  },
  {
   "cell_type": "code",
   "execution_count": 3,
   "metadata": {},
   "outputs": [
    {
     "name": "stdout",
     "output_type": "stream",
     "text": [
      "10\n",
      "9\n",
      "8\n",
      "7\n",
      "6\n",
      "5\n",
      "4\n",
      "3\n",
      "2\n",
      "1\n"
     ]
    }
   ],
   "source": [
    "def recursive(a):\n",
    "    if(a == 0):\n",
    "        return\n",
    "    else:\n",
    "        print(a)\n",
    "        recursive(a - 1)\n",
    "\n",
    "recursive(10)"
   ]
  },
  {
   "cell_type": "markdown",
   "metadata": {},
   "source": [
    "위) 하나씩 줄여가며 출력을 해보자.\n",
    "계층적이라고 할 수 없지만 계속 하나씩 쌓아올려서 stack 처럼 올린다.\n",
    "하) 이걸 for문 으로 돌리면?"
   ]
  },
  {
   "cell_type": "code",
   "execution_count": 6,
   "metadata": {},
   "outputs": [],
   "source": [
    "def iter(a):\n",
    "    for i in range(1, a):\n",
    "        print(i)"
   ]
  },
  {
   "cell_type": "markdown",
   "metadata": {},
   "source": [
    "위) \n",
    "반복이 계속 일어나게 되는데 반복이 계속일어나면 Recursive를 사용하는게 맞다.\n",
    "위는 계속 반복하면서 하나씩 쌓아올린다고 생각하면 피보나치는 쌓아올리면 어마어마하게 느려지는 현상이 생긴다.\n",
    "따라서 피보나치는  "
   ]
  },
  {
   "cell_type": "code",
   "execution_count": 12,
   "metadata": {},
   "outputs": [
    {
     "ename": "SyntaxError",
     "evalue": "invalid syntax (109939518.py, line 2)",
     "output_type": "error",
     "traceback": [
      "\u001b[0;36m  Cell \u001b[0;32mIn[12], line 2\u001b[0;36m\u001b[0m\n\u001b[0;31m    if % == 0 or x == 1:\u001b[0m\n\u001b[0m       ^\u001b[0m\n\u001b[0;31mSyntaxError\u001b[0m\u001b[0;31m:\u001b[0m invalid syntax\n"
     ]
    }
   ],
   "source": [
    "def fib(x):\n",
    "    if % == 0 or x == 1:\n",
    "        return 1\n",
    "    else:\n",
    "        return fib(x-1) + fib(x-2)\n",
    "\n",
    "#result = fib(100)\n",
    "#print result "
   ]
  },
  {
   "cell_type": "markdown",
   "metadata": {},
   "source": [
    "iterational 작성시 아래처럼럼"
   ]
  },
  {
   "cell_type": "code",
   "execution_count": 13,
   "metadata": {},
   "outputs": [
    {
     "ename": "SyntaxError",
     "evalue": "invalid syntax (2886844085.py, line 2)",
     "output_type": "error",
     "traceback": [
      "\u001b[0;36m  Cell \u001b[0;32mIn[13], line 2\u001b[0;36m\u001b[0m\n\u001b[0;31m    if % == 0 or x == 1:\u001b[0m\n\u001b[0m       ^\u001b[0m\n\u001b[0;31mSyntaxError\u001b[0m\u001b[0;31m:\u001b[0m invalid syntax\n"
     ]
    }
   ],
   "source": [
    "def fib_iterator(x):\n",
    "    if % == 0 or x == 1:\n",
    "        return 1\n",
    "    else:\n",
    "        return fib_iterator(x-1) + fib_iterator(x-2)\n",
    "\n",
    "def fib_iterator(x):\n",
    "    first = 0:\n",
    "    second = 1:\n",
    "    third = 0:\n",
    "\n",
    "    for i in range(x):\n",
    "        thrid = first + second\n",
    "        first = second\n",
    "        second = third\n",
    "\n",
    "\"\"\"def fib_iterator(x):\n",
    "    if x == 1:\n",
    "        return 1\n",
    "    else:\n",
    "        return fib_iterator(x-1) + fib_iterator(x-2)\n",
    "\n",
    "fib_iterator(100)\"\"\""
   ]
  },
  {
   "cell_type": "markdown",
   "metadata": {},
   "source": [
    "iterator 형식으로 작성을 하게 된다면 "
   ]
  },
  {
   "cell_type": "code",
   "execution_count": null,
   "metadata": {},
   "outputs": [],
   "source": [
    "def fib_iter(n):\n",
    "    _curr,_next = 0, 1\n",
    "    for _ in range(n):\n",
    "        _curr"
   ]
  },
  {
   "cell_type": "markdown",
   "metadata": {},
   "source": [
    "# code"
   ]
  },
  {
   "cell_type": "code",
   "execution_count": null,
   "metadata": {},
   "outputs": [],
   "source": [
    "def isPalindrom(s):\n",
    "    def toChars(s):\n",
    "        s = lower()\n",
    "        ans = ''\n",
    "        for c in s:\n",
    "            if c in 'abcdefghijklmnopqrstuvwxyz':\n",
    "                ans = ans + c # c가 s에 해당이 되면 \n",
    "        return ans\n",
    "\n",
    "    def isPal(s):\n",
    "        if len(s) <= 1:\n",
    "            return True\n",
    "        else:\n",
    "            return s[0] == s[-1] and isPal(s[1:-1])  # isPal은 줄여나가는 것이다.\n",
    "\n",
    "    return isPal(toChars(s)) "
   ]
  },
  {
   "cell_type": "markdown",
   "metadata": {},
   "source": [
    "함수를 어디까지 줄여야하는가?\n",
    "1. 기능성\n",
    "2. 수정 가능성\n",
    "3. 파라미터 가능성 [어떤 변수가 scope 기능에서 사용할 수 있도록]\n",
    "\n",
    "파라미터와 자바 Recuersive로 작성해보자."
   ]
  },
  {
   "cell_type": "markdown",
   "metadata": {},
   "source": [
    "# Dictionaries\n",
    "\n",
    "모든 정보에 대해 별도의 목록을 사용하여 저장할 수 있음\n",
    "\n",
    "names = ['Ana', 'John', 'Denise', 'Katy']\n",
    "grade = ['B', 'A+', 'A', 'A']\n",
    "course = [2.00, 6.0001, 20.002, 9.01]\n",
    "\n",
    "각 아이템에 대한 분리된 리스트\n",
    "각 리스트는 반드시 같은 길이이어야함.\n",
    "각 같은 인덱스에 정보가 저장되고, 다른 인덱스의 정보는 각기 다른 사람의 정보"
   ]
  },
  {
   "cell_type": "code",
   "execution_count": 15,
   "metadata": {},
   "outputs": [
    {
     "data": {
      "text/plain": [
       "'B'"
      ]
     },
     "execution_count": 15,
     "metadata": {},
     "output_type": "execute_result"
    }
   ],
   "source": [
    "dict = {}\n",
    "grades = {'Ana':'B', 'John':'A+', 'Denise':'A', 'Katy':'A'}\n",
    "grades['Ana']\n"
   ]
  },
  {
   "cell_type": "code",
   "execution_count": 16,
   "metadata": {},
   "outputs": [
    {
     "data": {
      "text/plain": [
       "[1, 2, 3]"
      ]
     },
     "execution_count": 16,
     "metadata": {},
     "output_type": "execute_result"
    }
   ],
   "source": [
    "dict = {1:[1,2,3]}\n",
    "grades = {'Ana':'B', 'John':'A+', 'Denise':'A', 'Katy':'A'}\n",
    "dict[1]\n",
    "keys = list(grades.keys())\n"
   ]
  },
  {
   "cell_type": "markdown",
   "metadata": {},
   "source": [
    "이러한 형식으로 값을 넣을 수 있다.\n",
    "또한 아래처럼 튜플 형식으로 넣을 수 있다."
   ]
  },
  {
   "cell_type": "code",
   "execution_count": 17,
   "metadata": {},
   "outputs": [
    {
     "data": {
      "text/plain": [
       "list"
      ]
     },
     "execution_count": 17,
     "metadata": {},
     "output_type": "execute_result"
    }
   ],
   "source": [
    "dict = {1:[1,2,3]}\n",
    "grades = {'Ana':'B', 'John':'A+', 'Denise':'A', 'Katy':'A'}\n",
    "dict[1]\n",
    "keys = list(grades.keys())\n",
    "type(keys)"
   ]
  },
  {
   "cell_type": "markdown",
   "metadata": {},
   "source": [
    "Dictionary Keys and Values"
   ]
  },
  {
   "cell_type": "code",
   "execution_count": 18,
   "metadata": {},
   "outputs": [
    {
     "data": {
      "text/plain": [
       "1346269"
      ]
     },
     "execution_count": 18,
     "metadata": {},
     "output_type": "execute_result"
    }
   ],
   "source": [
    "def fib(n):\n",
    "    if n == 1:\n",
    "        return 1\n",
    "    elif n == 2:\n",
    "        return 2\n",
    "    else:\n",
    "        return fib(n - 1) + fib(n - 2)\n",
    "    \n",
    "fib(30)"
   ]
  },
  {
   "cell_type": "markdown",
   "metadata": {},
   "source": [
    "# dictionary를 사용한 피보나치"
   ]
  },
  {
   "cell_type": "code",
   "execution_count": 20,
   "metadata": {},
   "outputs": [
    {
     "name": "stdout",
     "output_type": "stream",
     "text": [
      "1346269\n"
     ]
    }
   ],
   "source": [
    "def fib_efficient(n, d):\n",
    "    if n in d:\n",
    "        return d[n]\n",
    "    else:\n",
    "        ans = fib_efficient(n-1, d) + fib_efficient(n-2, d)\n",
    "        d[n] = ans\n",
    "        return ans\n",
    "\n",
    "d = {1:1, 2:2}\n",
    "print(fib_efficient(30, d))"
   ]
  },
  {
   "cell_type": "markdown",
   "metadata": {},
   "source": [
    "하)\n",
    "아래의 방식으로도 사용할 수 있다. 이렇게 작성한 이유는??? \n",
    "for문을 돌려서 사용할 수 있다?"
   ]
  },
  {
   "cell_type": "code",
   "execution_count": 19,
   "metadata": {},
   "outputs": [
    {
     "name": "stdout",
     "output_type": "stream",
     "text": [
      "{1: 1, 2: 2, 3: 3}\n",
      "{1: 1, 2: 2, 3: 3, 4: 5}\n",
      "{1: 1, 2: 2, 3: 3, 4: 5, 5: 8}\n",
      "{1: 1, 2: 2, 3: 3, 4: 5, 5: 8, 6: 13}\n",
      "{1: 1, 2: 2, 3: 3, 4: 5, 5: 8, 6: 13, 7: 21}\n",
      "{1: 1, 2: 2, 3: 3, 4: 5, 5: 8, 6: 13, 7: 21, 8: 34}\n",
      "{1: 1, 2: 2, 3: 3, 4: 5, 5: 8, 6: 13, 7: 21, 8: 34, 9: 55}\n",
      "{1: 1, 2: 2, 3: 3, 4: 5, 5: 8, 6: 13, 7: 21, 8: 34, 9: 55, 10: 89}\n",
      "{1: 1, 2: 2, 3: 3, 4: 5, 5: 8, 6: 13, 7: 21, 8: 34, 9: 55, 10: 89, 11: 144}\n",
      "{1: 1, 2: 2, 3: 3, 4: 5, 5: 8, 6: 13, 7: 21, 8: 34, 9: 55, 10: 89, 11: 144, 12: 233}\n",
      "{1: 1, 2: 2, 3: 3, 4: 5, 5: 8, 6: 13, 7: 21, 8: 34, 9: 55, 10: 89, 11: 144, 12: 233, 13: 377}\n",
      "{1: 1, 2: 2, 3: 3, 4: 5, 5: 8, 6: 13, 7: 21, 8: 34, 9: 55, 10: 89, 11: 144, 12: 233, 13: 377, 14: 610}\n",
      "{1: 1, 2: 2, 3: 3, 4: 5, 5: 8, 6: 13, 7: 21, 8: 34, 9: 55, 10: 89, 11: 144, 12: 233, 13: 377, 14: 610, 15: 987}\n",
      "{1: 1, 2: 2, 3: 3, 4: 5, 5: 8, 6: 13, 7: 21, 8: 34, 9: 55, 10: 89, 11: 144, 12: 233, 13: 377, 14: 610, 15: 987, 16: 1597}\n",
      "{1: 1, 2: 2, 3: 3, 4: 5, 5: 8, 6: 13, 7: 21, 8: 34, 9: 55, 10: 89, 11: 144, 12: 233, 13: 377, 14: 610, 15: 987, 16: 1597, 17: 2584}\n",
      "{1: 1, 2: 2, 3: 3, 4: 5, 5: 8, 6: 13, 7: 21, 8: 34, 9: 55, 10: 89, 11: 144, 12: 233, 13: 377, 14: 610, 15: 987, 16: 1597, 17: 2584, 18: 4181}\n",
      "{1: 1, 2: 2, 3: 3, 4: 5, 5: 8, 6: 13, 7: 21, 8: 34, 9: 55, 10: 89, 11: 144, 12: 233, 13: 377, 14: 610, 15: 987, 16: 1597, 17: 2584, 18: 4181, 19: 6765}\n",
      "{1: 1, 2: 2, 3: 3, 4: 5, 5: 8, 6: 13, 7: 21, 8: 34, 9: 55, 10: 89, 11: 144, 12: 233, 13: 377, 14: 610, 15: 987, 16: 1597, 17: 2584, 18: 4181, 19: 6765, 20: 10946}\n",
      "{1: 1, 2: 2, 3: 3, 4: 5, 5: 8, 6: 13, 7: 21, 8: 34, 9: 55, 10: 89, 11: 144, 12: 233, 13: 377, 14: 610, 15: 987, 16: 1597, 17: 2584, 18: 4181, 19: 6765, 20: 10946, 21: 17711}\n",
      "{1: 1, 2: 2, 3: 3, 4: 5, 5: 8, 6: 13, 7: 21, 8: 34, 9: 55, 10: 89, 11: 144, 12: 233, 13: 377, 14: 610, 15: 987, 16: 1597, 17: 2584, 18: 4181, 19: 6765, 20: 10946, 21: 17711, 22: 28657}\n",
      "{1: 1, 2: 2, 3: 3, 4: 5, 5: 8, 6: 13, 7: 21, 8: 34, 9: 55, 10: 89, 11: 144, 12: 233, 13: 377, 14: 610, 15: 987, 16: 1597, 17: 2584, 18: 4181, 19: 6765, 20: 10946, 21: 17711, 22: 28657, 23: 46368}\n",
      "{1: 1, 2: 2, 3: 3, 4: 5, 5: 8, 6: 13, 7: 21, 8: 34, 9: 55, 10: 89, 11: 144, 12: 233, 13: 377, 14: 610, 15: 987, 16: 1597, 17: 2584, 18: 4181, 19: 6765, 20: 10946, 21: 17711, 22: 28657, 23: 46368, 24: 75025}\n",
      "{1: 1, 2: 2, 3: 3, 4: 5, 5: 8, 6: 13, 7: 21, 8: 34, 9: 55, 10: 89, 11: 144, 12: 233, 13: 377, 14: 610, 15: 987, 16: 1597, 17: 2584, 18: 4181, 19: 6765, 20: 10946, 21: 17711, 22: 28657, 23: 46368, 24: 75025, 25: 121393}\n",
      "{1: 1, 2: 2, 3: 3, 4: 5, 5: 8, 6: 13, 7: 21, 8: 34, 9: 55, 10: 89, 11: 144, 12: 233, 13: 377, 14: 610, 15: 987, 16: 1597, 17: 2584, 18: 4181, 19: 6765, 20: 10946, 21: 17711, 22: 28657, 23: 46368, 24: 75025, 25: 121393, 26: 196418}\n",
      "{1: 1, 2: 2, 3: 3, 4: 5, 5: 8, 6: 13, 7: 21, 8: 34, 9: 55, 10: 89, 11: 144, 12: 233, 13: 377, 14: 610, 15: 987, 16: 1597, 17: 2584, 18: 4181, 19: 6765, 20: 10946, 21: 17711, 22: 28657, 23: 46368, 24: 75025, 25: 121393, 26: 196418, 27: 317811}\n",
      "{1: 1, 2: 2, 3: 3, 4: 5, 5: 8, 6: 13, 7: 21, 8: 34, 9: 55, 10: 89, 11: 144, 12: 233, 13: 377, 14: 610, 15: 987, 16: 1597, 17: 2584, 18: 4181, 19: 6765, 20: 10946, 21: 17711, 22: 28657, 23: 46368, 24: 75025, 25: 121393, 26: 196418, 27: 317811, 28: 514229}\n",
      "{1: 1, 2: 2, 3: 3, 4: 5, 5: 8, 6: 13, 7: 21, 8: 34, 9: 55, 10: 89, 11: 144, 12: 233, 13: 377, 14: 610, 15: 987, 16: 1597, 17: 2584, 18: 4181, 19: 6765, 20: 10946, 21: 17711, 22: 28657, 23: 46368, 24: 75025, 25: 121393, 26: 196418, 27: 317811, 28: 514229, 29: 832040}\n",
      "{1: 1, 2: 2, 3: 3, 4: 5, 5: 8, 6: 13, 7: 21, 8: 34, 9: 55, 10: 89, 11: 144, 12: 233, 13: 377, 14: 610, 15: 987, 16: 1597, 17: 2584, 18: 4181, 19: 6765, 20: 10946, 21: 17711, 22: 28657, 23: 46368, 24: 75025, 25: 121393, 26: 196418, 27: 317811, 28: 514229, 29: 832040, 30: 1346269}\n",
      "{1: 1, 2: 2, 3: 3, 4: 5, 5: 8, 6: 13, 7: 21, 8: 34, 9: 55, 10: 89, 11: 144, 12: 233, 13: 377, 14: 610, 15: 987, 16: 1597, 17: 2584, 18: 4181, 19: 6765, 20: 10946, 21: 17711, 22: 28657, 23: 46368, 24: 75025, 25: 121393, 26: 196418, 27: 317811, 28: 514229, 29: 832040, 30: 1346269, 31: 2178309}\n",
      "{1: 1, 2: 2, 3: 3, 4: 5, 5: 8, 6: 13, 7: 21, 8: 34, 9: 55, 10: 89, 11: 144, 12: 233, 13: 377, 14: 610, 15: 987, 16: 1597, 17: 2584, 18: 4181, 19: 6765, 20: 10946, 21: 17711, 22: 28657, 23: 46368, 24: 75025, 25: 121393, 26: 196418, 27: 317811, 28: 514229, 29: 832040, 30: 1346269, 31: 2178309, 32: 3524578}\n",
      "{1: 1, 2: 2, 3: 3, 4: 5, 5: 8, 6: 13, 7: 21, 8: 34, 9: 55, 10: 89, 11: 144, 12: 233, 13: 377, 14: 610, 15: 987, 16: 1597, 17: 2584, 18: 4181, 19: 6765, 20: 10946, 21: 17711, 22: 28657, 23: 46368, 24: 75025, 25: 121393, 26: 196418, 27: 317811, 28: 514229, 29: 832040, 30: 1346269, 31: 2178309, 32: 3524578, 33: 5702887}\n",
      "5702887\n"
     ]
    }
   ],
   "source": [
    "def fib_efficient(n, d):\n",
    "    if n in d:\n",
    "        return d[n]\n",
    "    else:\n",
    "        ans = fib_efficient(n-1, d) + fib_efficient(n-2, d)\n",
    "        d[n] = ans\n",
    "        print(d)\n",
    "        return ans\n",
    "\n",
    "d = {1:1, 2:2}\n",
    "print(fib_efficient(33, d))"
   ]
  },
  {
   "cell_type": "markdown",
   "metadata": {},
   "source": [
    "상)\n",
    "코드를 자바형식으로 짜보자."
   ]
  },
  {
   "cell_type": "code",
   "execution_count": null,
   "metadata": {},
   "outputs": [],
   "source": [
    "def fib_efficient(n, d):\n",
    "    if n in d:\n",
    "        return d[n]\n",
    "    else:\n",
    "        ans = fib_efficient(n-1, d) + fib_efficient(n-2, d)\n",
    "        d[n] = ans\n",
    "        print(d)\n",
    "        return ans\n",
    "\n",
    "d = {1:1, 2:2}\n",
    "print(fib_efficient(33, d))"
   ]
  },
  {
   "cell_type": "code",
   "execution_count": null,
   "metadata": {},
   "outputs": [],
   "source": []
  },
  {
   "cell_type": "markdown",
   "metadata": {},
   "source": []
  },
  {
   "cell_type": "code",
   "execution_count": null,
   "metadata": {},
   "outputs": [],
   "source": []
  }
 ],
 "metadata": {
  "kernelspec": {
   "display_name": "base",
   "language": "python",
   "name": "python3"
  },
  "language_info": {
   "codemirror_mode": {
    "name": "ipython",
    "version": 3
   },
   "file_extension": ".py",
   "mimetype": "text/x-python",
   "name": "python",
   "nbconvert_exporter": "python",
   "pygments_lexer": "ipython3",
   "version": "3.9.18"
  }
 },
 "nbformat": 4,
 "nbformat_minor": 2
}
