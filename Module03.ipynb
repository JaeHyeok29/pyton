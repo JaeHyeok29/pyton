{
 "cells": [
  {
   "cell_type": "code",
   "execution_count": null,
   "metadata": {},
   "outputs": [],
   "source": [
    "target = 27\n",
    "start = 0\n",
    "end = len(array)-1\n",
    "mid = 0\n",
    "\n",
    "while(start <= end) -1:\n",
    "    if (array[mid] == target):\n",
    "    print(end)\n",
    "\n",
    "    while low <= high:\n",
    "        mid = (low + high) // 2\n",
    "        guess = nums[mid]\n",
    "\n",
    "        if guess == target:\n",
    "            return mid  # 원하는 값 찾음\n",
    "        elif guess < target:\n",
    "            low = mid + 1  # 중간값보다 큰 부분을 검색\n",
    "        else:\n",
    "            high = mid - 1  # 중간값보다 작은 부분을 검색\n",
    "\n",
    "     # 찾는 값이 리스트에 없음\n",
    "\n",
    "\n",
    "target = 10  # 찾고자 하는 값\n",
    "result = binary_search(nums, target)\n",
    "\n",
    "if result != -1:\n",
    "    print(f\"찾는 값 {target}은 리스트의 인덱스 {result}에 있습니다.\")\n",
    "else:\n",
    "    print(f\"찾는 값 {target}을 리스트에서 찾을 수 없습니다.\")\n"
   ]
  },
  {
   "cell_type": "code",
   "execution_count": null,
   "metadata": {},
   "outputs": [],
   "source": [
    "cube = 27\n",
    "epsilon = 0.01\n",
    "num_guesses = 0 # 연산 횟수 공간\n",
    "low = 0 # 검색 범위 시작 초기값 0\n",
    "high = cube # 변수는 상한 \n",
    "guess = (high + low) / 2.0 # 추측값으로 초기에는 Low, heigh 의 중간값 설정\n",
    "\n",
    "while abs(guess**3 - cube) >= epsilon: # 조건을 검사하면서 실행 abs 절댓값 \n",
    "    if guess**3 < cube: # 큐브보다 작은지?\n",
    "        low = guess # 작으면 업데이트 \n",
    "    else:\n",
    "        high = guess # 그렇지 않으면 이렇게 업데이트\n",
    "    guess = (high + low) / 2.0 \n",
    "    num_guesses += 1\n",
    "print('num_guess =', num_guesses)\n",
    "print(guess, 'is close to the cobe root of', cube)"
   ]
  },
  {
   "cell_type": "code",
   "execution_count": 1,
   "metadata": {},
   "outputs": [
    {
     "ename": "NameError",
     "evalue": "name 'high' is not defined",
     "output_type": "error",
     "traceback": [
      "\u001b[0;31m---------------------------------------------------------------------------\u001b[0m",
      "\u001b[0;31mNameError\u001b[0m                                 Traceback (most recent call last)",
      "\u001b[1;32m/home/hyeok/Documents/Java/Python/Module03.ipynb 셀 3\u001b[0m line \u001b[0;36m6\n\u001b[1;32m      <a href='vscode-notebook-cell:/home/hyeok/Documents/Java/Python/Module03.ipynb#W2sZmlsZQ%3D%3D?line=3'>4</a>\u001b[0m low \u001b[39m=\u001b[39m \u001b[39m0\u001b[39m\n\u001b[1;32m      <a href='vscode-notebook-cell:/home/hyeok/Documents/Java/Python/Module03.ipynb#W2sZmlsZQ%3D%3D?line=4'>5</a>\u001b[0m heigh \u001b[39m=\u001b[39m nums\n\u001b[0;32m----> <a href='vscode-notebook-cell:/home/hyeok/Documents/Java/Python/Module03.ipynb#W2sZmlsZQ%3D%3D?line=5'>6</a>\u001b[0m guess \u001b[39m=\u001b[39m (high \u001b[39m+\u001b[39m low) \u001b[39m/\u001b[39m \u001b[39m2.0\u001b[39m\n\u001b[1;32m      <a href='vscode-notebook-cell:/home/hyeok/Documents/Java/Python/Module03.ipynb#W2sZmlsZQ%3D%3D?line=7'>8</a>\u001b[0m \u001b[39mwhile\u001b[39;00m \u001b[39mabs\u001b[39m(guess\u001b[39m*\u001b[39m\u001b[39m*\u001b[39m\u001b[39m3\u001b[39m \u001b[39m-\u001b[39m nums) \u001b[39m>\u001b[39m\u001b[39m=\u001b[39m epsilon:\n\u001b[1;32m      <a href='vscode-notebook-cell:/home/hyeok/Documents/Java/Python/Module03.ipynb#W2sZmlsZQ%3D%3D?line=8'>9</a>\u001b[0m     \u001b[39mif\u001b[39;00m guess\u001b[39m*\u001b[39m\u001b[39m*\u001b[39m\u001b[39m3\u001b[39m \u001b[39m<\u001b[39m nums:\n",
      "\u001b[0;31mNameError\u001b[0m: name 'high' is not defined"
     ]
    }
   ],
   "source": [
    "nums = {1,2,3,4,5,6,7,8,9,10,11,12,13,14,15,16,17,18,19,20}\n",
    "epsilon = 0.01\n",
    "find = 5\n",
    "low = 0\n",
    "heigh = nums\n",
    "guess = (high + low) / 2.0\n",
    "\n",
    "while low <= heigh:\n",
    "    guess = (low + high) // 2 # 중간 값 추측\n",
    "    nums += 1\n",
    "\n",
    "    if nums[guess] == find:\n",
    "        print(f'(find)을 찾음. 인덱스 : {guess}')\n",
    "        break\n",
    "    else\n",
    "        high = guess\n",
    "    guess = (high + low) / 2.0\n",
    "    num_guesses += 1\n",
    "print('num_guess =', num_guesses)\n",
    "print(guess, 'is close to the num of', nums)"
   ]
  }
 ],
 "metadata": {
  "kernelspec": {
   "display_name": "base",
   "language": "python",
   "name": "python3"
  },
  "language_info": {
   "codemirror_mode": {
    "name": "ipython",
    "version": 3
   },
   "file_extension": ".py",
   "mimetype": "text/x-python",
   "name": "python",
   "nbconvert_exporter": "python",
   "pygments_lexer": "ipython3",
   "version": "3.9.18"
  }
 },
 "nbformat": 4,
 "nbformat_minor": 2
}
